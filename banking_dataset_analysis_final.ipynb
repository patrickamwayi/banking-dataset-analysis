{
 "cells": [
  {
   "cell_type": "markdown",
   "id": "f80e6213",
   "metadata": {},
   "source": [
    "## <a name=\"project_description_goals\"></a>Project Description/Goals:\n",
    "\n",
    "Bank Dataset Analysis\n",
    " - This project is about identifying characteristics for marketing analysis for individuals in banking clientele.\n",
    "\n",
    "### Business understanding\n",
    "Project Goal\n",
    "- The goal for this project is to answer initial questions, and analyze the characteristics for banking clientele for marketing purposes. Business goals include which demographic of individuals to create marking improvements on.\n",
    "\n",
    "### Data understanding\n",
    "The banking dataset analysis data was obtained from Kaggle open-source dataset. It is stored in a csv file, named as \"test.csv\" and \"train.cvs\". It has 17 columns called features, including 45211 and 4521 row numbers. The fetures are age, job, marital, education, default, balance, housing, loan, contact, day, month, duration, campaign, pdays, previous, poutcome and y. \n",
    "\n",
    "### Description\n",
    "A Portuguese bank is experiencing declining revenue, attributed to inadequate customer investments in long-term deposits. To address this issue, the bank aims to identify potential existing customers with a high likelihood of subscribing to long-term deposits and concentrate marketing efforts on this target group.\n",
    "\n",
    "The banking dataset for analysis is derived from a direct marketing campaign conducted by a Portuguese bank institution. \n",
    "\n",
    "This campaign primarily involves making phone calls to clients to encourage them to accept long-term deposits with the bank.\n",
    "\n",
    "After each call, clients are categorized as either \"no\" if they did not make a deposit or \"yes\" if they accepted to make a deposit.\n",
    "\n",
    "The project's objective is to predict whether a client will agree to a term deposit during a call based on client information.\n",
    "\n",
    "\n",
    "\n",
    "## <a name=\"initial_questions\"></a>Initial Questions:\n",
    "\n",
    "- What job types are customers likely to subscribe term deposit?\n",
    "- What type of customer marital status are more likely to subscribe term deposit?\n",
    "- Does customer education level has any effect to subscription of term deposit?\n",
    "- What is the relationship between customers housing and subscription to term deposit?\n",
    "- What is the relationship between customer loans and subscription to term deposit?\n",
    "- What was the most effective method used to contact customers?\n",
    "\n"
   ]
  },
  {
   "cell_type": "markdown",
   "id": "b3784358",
   "metadata": {},
   "source": [
    "# Banking Dataset Analysis\n",
    "Prepared By Patrick Amwayi September 2023\n",
    "<hr style=\"border-top: 50px groove purple; margin-top: 1px; margin-bottom: 1px\"></hr>"
   ]
  },
  {
   "cell_type": "code",
   "execution_count": 1,
   "id": "8e2c24c6",
   "metadata": {},
   "outputs": [],
   "source": [
    "# imports\n",
    "import warnings\n",
    "warnings.filterwarnings('ignore')\n",
    "import numpy as np\n",
    "import pandas as pd\n",
    "import seaborn as sns\n",
    "import matplotlib.pyplot as plt\n",
    "from sklearn.preprocessing import scale, StandardScaler\n",
    "from sklearn.linear_model import LogisticRegression\n",
    "from sklearn.neighbors import KNeighborsClassifier\n",
    "from sklearn.tree import DecisionTreeClassifier\n",
    "from sklearn.ensemble import RandomForestClassifier\n",
    "\n",
    "import env\n",
    "import wrangle"
   ]
  },
  {
   "cell_type": "markdown",
   "id": "3c2933a1",
   "metadata": {},
   "source": [
    "<hr style=\"border-top: 10px groove purple; margin-top: 1px; margin-bottom: 1px\"></hr>"
   ]
  },
  {
   "cell_type": "markdown",
   "id": "692f7eae",
   "metadata": {},
   "source": [
    "## I. Acquire Data"
   ]
  },
  {
   "cell_type": "code",
   "execution_count": 2,
   "id": "d57cd32d",
   "metadata": {},
   "outputs": [],
   "source": [
    "## Acquiring the data from the csv file and from wrangle.py\n",
    "df0=wrangle.acquire_bank()\n",
    "df1=wrangle.acquire_bank()"
   ]
  }
 ],
 "metadata": {
  "kernelspec": {
   "display_name": "Python 3 (ipykernel)",
   "language": "python",
   "name": "python3"
  },
  "language_info": {
   "codemirror_mode": {
    "name": "ipython",
    "version": 3
   },
   "file_extension": ".py",
   "mimetype": "text/x-python",
   "name": "python",
   "nbconvert_exporter": "python",
   "pygments_lexer": "ipython3",
   "version": "3.9.12"
  }
 },
 "nbformat": 4,
 "nbformat_minor": 5
}
